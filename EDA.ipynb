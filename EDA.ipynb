{
 "cells": [
  {
   "cell_type": "code",
   "execution_count": 1,
   "metadata": {
    "executionInfo": {
     "elapsed": 1967,
     "status": "ok",
     "timestamp": 1668534730128,
     "user": {
      "displayName": "Vijay Bhadrashetti",
      "userId": "06632754507825502625"
     },
     "user_tz": 300
    },
    "id": "cOOzRWRdasq-"
   },
   "outputs": [],
   "source": [
    "import pandas as pd\n",
    "import numpy as np\n",
    "import matplotlib.pyplot as plt\n",
    "from nltk import pos_tag, word_tokenize\n",
    "import seaborn as sns"
   ]
  },
  {
   "cell_type": "code",
   "execution_count": 2,
   "metadata": {
    "executionInfo": {
     "elapsed": 385,
     "status": "ok",
     "timestamp": 1668534734534,
     "user": {
      "displayName": "Vijay Bhadrashetti",
      "userId": "06632754507825502625"
     },
     "user_tz": 300
    },
    "id": "H-zCdB0fasrB"
   },
   "outputs": [],
   "source": [
    "pd.set_option('display.max_colwidth',15)"
   ]
  },
  {
   "cell_type": "code",
   "execution_count": 3,
   "metadata": {
    "executionInfo": {
     "elapsed": 2,
     "status": "ok",
     "timestamp": 1668534735684,
     "user": {
      "displayName": "Vijay Bhadrashetti",
      "userId": "06632754507825502625"
     },
     "user_tz": 300
    },
    "id": "8Ep_kH-AasrC"
   },
   "outputs": [],
   "source": [
    "def word_prep(df):\n",
    "    #identify all possible special characters\n",
    "    punc = ['!','@','#','$','%','^','&','*','(',')','-','_','+','=','{',\n",
    "            '[','}',']',\"\\\"\",\"/\",',',\"<\",\">\",';',':',\"'\",'\"','`','~','?','', '\\\\', '.']\n",
    "\n",
    "    #replace the special characters in words with blanks\n",
    "    for i in punc:\n",
    "        df = df.str.replace(i,'')\n",
    "\n",
    "    return (df)"
   ]
  },
  {
   "cell_type": "markdown",
   "metadata": {
    "id": "cDqcgNMEasrD"
   },
   "source": [
    "## IMPORT DATA"
   ]
  },
  {
   "cell_type": "code",
   "execution_count": 4,
   "metadata": {
    "executionInfo": {
     "elapsed": 2001,
     "status": "ok",
     "timestamp": 1668536315928,
     "user": {
      "displayName": "Vijay Bhadrashetti",
      "userId": "06632754507825502625"
     },
     "user_tz": 300
    },
    "id": "f-l197-4asrE"
   },
   "outputs": [],
   "source": [
    "# reviews = pd.read_csv('C:/Users/abbas/Google Drive/CIS511/project/data/X_train.csv', sep = '|')\n",
    "reviews = pd.read_csv('C:/Users/abbas/Google Drive/CIS511/project/data/X_train.csv',  sep = '|')\n",
    "# /content/drive/Shareddrives/NLP/X_train.csv"
   ]
  },
  {
   "cell_type": "code",
   "execution_count": 5,
   "metadata": {
    "executionInfo": {
     "elapsed": 7,
     "status": "aborted",
     "timestamp": 1668534742863,
     "user": {
      "displayName": "Vijay Bhadrashetti",
      "userId": "06632754507825502625"
     },
     "user_tz": 300
    },
    "id": "39NLaNOQasrF"
   },
   "outputs": [],
   "source": [
    "reviews_scores = pd.read_csv('C:/Users/abbas/Google Drive/CIS511/project/data/y_train.csv', sep = '|')"
   ]
  },
  {
   "cell_type": "code",
   "execution_count": 6,
   "metadata": {
    "id": "17V8YxbmasrF"
   },
   "outputs": [],
   "source": [
    "reviews = pd.merge(reviews,reviews_scores, on = 'review_num', how = 'inner')\n",
    "reviews['Text'] = reviews['Text'].str.lower()\n",
    "reviews['Text1'] = reviews['Text'].copy()"
   ]
  },
  {
   "cell_type": "code",
   "execution_count": 7,
   "metadata": {
    "id": "Rvw5m1KZasrG"
   },
   "outputs": [],
   "source": [
    "reviews['Text'] = word_prep(reviews['Text'])"
   ]
  },
  {
   "cell_type": "code",
   "execution_count": 8,
   "metadata": {
    "id": "qBfWiQ8JasrG"
   },
   "outputs": [],
   "source": [
    "reviews = reviews.reset_index()"
   ]
  },
  {
   "cell_type": "markdown",
   "metadata": {
    "id": "VWD_3hw_asrH"
   },
   "source": [
    "## Puncuation EDA"
   ]
  },
  {
   "cell_type": "code",
   "execution_count": null,
   "metadata": {
    "id": "xysecmzgasrI"
   },
   "outputs": [],
   "source": [
    "reviews['has_exclam'] = np.where(reviews.Text1.str.contains('!'),1,0)\n",
    "reviews['has_quest'] = np.where(reviews.Text1.str.contains('\\?'),1,0)"
   ]
  },
  {
   "cell_type": "code",
   "execution_count": null,
   "metadata": {
    "id": "IMu13iZiasrI"
   },
   "outputs": [],
   "source": [
    "reviews['exclam_count'] = reviews.Text1.str.count('!')\n",
    "reviews['quest_count'] = reviews.Text1.str.count('\\?')"
   ]
  },
  {
   "cell_type": "code",
   "execution_count": null,
   "metadata": {
    "id": "Qec3Pgs0asrJ"
   },
   "outputs": [],
   "source": [
    "reviews['exclam_count'] = np.where(reviews['exclam_count'] > 10, 10, reviews['exclam_count'])\n",
    "reviews['quest_count'] = np.where(reviews['quest_count'] > 10, 10, reviews['quest_count'])"
   ]
  },
  {
   "cell_type": "code",
   "execution_count": null,
   "metadata": {
    "id": "AVY2C4T4asrJ",
    "outputId": "3520dc18-688a-4aa3-b0dd-0c1ba04abeac"
   },
   "outputs": [
    {
     "name": "stderr",
     "output_type": "stream",
     "text": [
      "<ipython-input-138-6aac17378171>:1: FutureWarning: Indexing with multiple keys (implicitly converted to a tuple of keys) will be deprecated, use a list instead.\n",
      "  x = reviews.groupby(['Score'])['has_exclam','ProductId'].agg({'has_exclam':'sum',\n"
     ]
    },
    {
     "data": {
      "image/png": "[encoded data removed]",
      "text/plain": [
       "<Figure size 720x360 with 1 Axes>"
      ]
     },
     "metadata": {
      "needs_background": "light"
     },
     "output_type": "display_data"
    }
   ],
   "source": [
    "x = reviews.groupby(['Score'])['has_exclam','ProductId'].agg({'has_exclam':'sum',\n",
    "                                                         'ProductId':'count'}).reset_index()\n",
    "x['percent'] = x['has_exclam'] / x['ProductId']\n",
    "\n",
    "fig = plt.figure(figsize = (10, 5))\n",
    " \n",
    "# creating the bar plot\n",
    "plt.bar(x['Score'], x['percent'], color ='red',\n",
    "        width = 0.4)\n",
    " \n",
    "plt.xlabel(\"Customer Score\")\n",
    "plt.ylabel(\"Percentage\")\n",
    "plt.title(\"Percent of Customers That Use Exclamation Point in Review\")\n",
    "plt.savefig('percent_of_customers_with_exclamation_mark.png', dpi = 100)\n",
    "plt.show()"
   ]
  },
  {
   "cell_type": "code",
   "execution_count": null,
   "metadata": {
    "id": "D5-j0TmZasrK",
    "outputId": "62108f76-30aa-40ec-eb58-02d20a4e30fa"
   },
   "outputs": [
    {
     "name": "stderr",
     "output_type": "stream",
     "text": [
      "<ipython-input-136-09b316728ae5>:1: FutureWarning: Indexing with multiple keys (implicitly converted to a tuple of keys) will be deprecated, use a list instead.\n",
      "  x = reviews.groupby(['Score'])['has_quest','ProductId'].agg({'has_quest':'sum',\n"
     ]
    },
    {
     "data": {
      "image/png": "[encoded data removed]",
      "text/plain": [
       "<Figure size 720x360 with 1 Axes>"
      ]
     },
     "metadata": {
      "needs_background": "light"
     },
     "output_type": "display_data"
    }
   ],
   "source": [
    "x = reviews.groupby(['Score'])['has_quest','ProductId'].agg({'has_quest':'sum',\n",
    "                                                         'ProductId':'count'}).reset_index()\n",
    "x['percent'] = x['has_quest'] / x['ProductId']\n",
    "\n",
    "fig = plt.figure(figsize = (10, 5))\n",
    " \n",
    "# creating the bar plot\n",
    "plt.bar(x['Score'], x['percent'], color ='orange',\n",
    "        width = 0.4)\n",
    " \n",
    "plt.xlabel(\"Customer Score\")\n",
    "plt.ylabel(\"Percentage\")\n",
    "plt.title(\"Percent of Customers That Use Question Marks in Review\")\n",
    "plt.savefig('percent_of_customers_with_question_mark.png', dpi = 100)\n",
    "plt.show()\n"
   ]
  },
  {
   "cell_type": "code",
   "execution_count": null,
   "metadata": {
    "id": "t8cSVKEvasrK"
   },
   "outputs": [],
   "source": [
    "x = reviews.loc[reviews['exclam_count'] > 0].groupby(['Score','exclam_count'])['ProductId'].count().reset_index()\n",
    "pd.pivot_table(x, values = 'ProductId',index = 'Score', columns = 'exclam_count', aggfunc = 'first').to_excel('exclamation_counts.xlsx', index = False)"
   ]
  },
  {
   "cell_type": "code",
   "execution_count": null,
   "metadata": {
    "id": "cVEYFk91asrK"
   },
   "outputs": [],
   "source": [
    "x = reviews.loc[reviews['quest_count'] > 0].groupby(['Score','quest_count'])['ProductId'].count().reset_index()\n",
    "pd.pivot_table(x, values = 'ProductId',index = 'Score', columns = 'quest_count', aggfunc = 'first').to_excel('question_mark_counts.xlsx', index = False)"
   ]
  },
  {
   "cell_type": "markdown",
   "metadata": {
    "id": "VpWpNOj5asrM"
   },
   "source": [
    "## WORDS EDA"
   ]
  },
  {
   "cell_type": "code",
   "execution_count": 9,
   "metadata": {
    "id": "cusfASnRasrM"
   },
   "outputs": [],
   "source": [
    "# convert each word in a sentence into a row\n",
    "\n",
    "### first: split each word in a row into a column\n",
    "words = reviews['Text'].str.split(' ', expand = True)\n",
    "words = words.reset_index()\n",
    "\n",
    "### second: convery the columns into rows\n",
    "words = words.melt(['index']).copy()\n",
    "words.sort_values(by = ['index','variable'], ascending = True, inplace = True)"
   ]
  },
  {
   "cell_type": "code",
   "execution_count": 10,
   "metadata": {
    "id": "PLsp6_-TasrM"
   },
   "outputs": [],
   "source": [
    "words = words.loc[~(words['value'].isna())]\n",
    "words = words.loc[~(words['value'].isin(['',' ']))]"
   ]
  },
  {
   "cell_type": "code",
   "execution_count": 11,
   "metadata": {
    "id": "pHZW0ZiQasrM"
   },
   "outputs": [],
   "source": [
    "words = pd.merge(words, reviews.loc[:,['index','review_num','ProductId','Score']], on = 'index', how = 'inner')"
   ]
  },
  {
   "cell_type": "markdown",
   "metadata": {
    "id": "kUA4AnfFasrN"
   },
   "source": [
    "### Distribution of Scores"
   ]
  },
  {
   "cell_type": "code",
   "execution_count": 19,
   "metadata": {
    "id": "11uMFQsZasrN",
    "outputId": "affd7d0d-e47f-458e-f135-366b5641bbef"
   },
   "outputs": [
    {
     "data": {
      "image/png": "[encoded data removed]",
      "text/plain": [
       "<Figure size 720x360 with 1 Axes>"
      ]
     },
     "metadata": {
      "needs_background": "light"
     },
     "output_type": "display_data"
    }
   ],
   "source": [
    "x = reviews.Score.value_counts().reset_index()\n",
    "x.sort_values(by = ['index'], inplace = True)\n",
    "\n",
    "fig = plt.figure(figsize = (10, 5))\n",
    " \n",
    "# creating the bar plot\n",
    "plt.bar(x['index'], x['Score'], color ='maroon',\n",
    "        width = 0.4)\n",
    " \n",
    "plt.xlabel(\"Customer Score\")\n",
    "plt.ylabel(\"Number of Customers\")\n",
    "plt.title(\"Distribution of Customer Reviews\")\n",
    "plt.savefig('customer_review_dist.png', dpi = 100)\n",
    "plt.show()"
   ]
  },
  {
   "cell_type": "code",
   "execution_count": 18,
   "metadata": {},
   "outputs": [
    {
     "data": {
      "text/html": [
       "<div>\n",
       "<style scoped>\n",
       "    .dataframe tbody tr th:only-of-type {\n",
       "        vertical-align: middle;\n",
       "    }\n",
       "\n",
       "    .dataframe tbody tr th {\n",
       "        vertical-align: top;\n",
       "    }\n",
       "\n",
       "    .dataframe thead th {\n",
       "        text-align: right;\n",
       "    }\n",
       "</style>\n",
       "<table border=\"1\" class=\"dataframe\">\n",
       "  <thead>\n",
       "    <tr style=\"text-align: right;\">\n",
       "      <th></th>\n",
       "      <th>index</th>\n",
       "      <th>Score</th>\n",
       "    </tr>\n",
       "  </thead>\n",
       "  <tbody>\n",
       "    <tr>\n",
       "      <th>2</th>\n",
       "      <td>1</td>\n",
       "      <td>6297</td>\n",
       "    </tr>\n",
       "    <tr>\n",
       "      <th>4</th>\n",
       "      <td>2</td>\n",
       "      <td>3561</td>\n",
       "    </tr>\n",
       "    <tr>\n",
       "      <th>3</th>\n",
       "      <td>3</td>\n",
       "      <td>5048</td>\n",
       "    </tr>\n",
       "    <tr>\n",
       "      <th>1</th>\n",
       "      <td>4</td>\n",
       "      <td>9640</td>\n",
       "    </tr>\n",
       "    <tr>\n",
       "      <th>0</th>\n",
       "      <td>5</td>\n",
       "      <td>43667</td>\n",
       "    </tr>\n",
       "  </tbody>\n",
       "</table>\n",
       "</div>"
      ],
      "text/plain": [
       "   index  Score\n",
       "2      1   6297\n",
       "4      2   3561\n",
       "3      3   5048\n",
       "1      4   9640\n",
       "0      5  43667"
      ]
     },
     "execution_count": 18,
     "metadata": {},
     "output_type": "execute_result"
    }
   ],
   "source": [
    "x"
   ]
  },
  {
   "cell_type": "markdown",
   "metadata": {
    "id": "OZZB5CynasrN"
   },
   "source": [
    "### Number of Words per Score"
   ]
  },
  {
   "cell_type": "code",
   "execution_count": 21,
   "metadata": {
    "id": "4JGDLjL8asrO"
   },
   "outputs": [],
   "source": [
    "reviews['number_of_words'] = reviews.Text.apply(lambda n: len(n.split()))"
   ]
  },
  {
   "cell_type": "code",
   "execution_count": 22,
   "metadata": {
    "id": "RFKIlbUHasrO",
    "outputId": "f1c789c2-94ee-40a9-ef4d-f842ee1daf92"
   },
   "outputs": [
    {
     "data": {
      "image/png": "[encoded data removed]",
      "text/plain": [
       "<Figure size 720x360 with 1 Axes>"
      ]
     },
     "metadata": {
      "needs_background": "light"
     },
     "output_type": "display_data"
    }
   ],
   "source": [
    "x = reviews.groupby(['Score'])['number_of_words'].describe().reset_index()\n",
    "\n",
    "fig = plt.figure(figsize = (10, 5))\n",
    " \n",
    "# creating the bar plot\n",
    "plt.bar(x['Score'], x['mean'], color ='blue',\n",
    "        width = 0.4)\n",
    " \n",
    "plt.xlabel(\"Customer Score\")\n",
    "plt.ylabel(\"Number of Words in Review\")\n",
    "plt.title(\"Average Length of Customer Review by Score\")\n",
    "plt.savefig('customer_review_length_dist.png', dpi = 100)\n",
    "plt.show()"
   ]
  },
  {
   "cell_type": "markdown",
   "metadata": {
    "id": "4yOS-jSxasrO"
   },
   "source": [
    "### Distribution of POS Per Score"
   ]
  },
  {
   "cell_type": "code",
   "execution_count": 12,
   "metadata": {
    "id": "5aL4fsyiasrO"
   },
   "outputs": [],
   "source": [
    "reviews_samp = reviews.sample(frac = 0.1, random_state = 1).copy()\n",
    "words_samp = words.loc[words['index'].isin(reviews_samp['index'])].copy()"
   ]
  },
  {
   "cell_type": "code",
   "execution_count": null,
   "metadata": {
    "id": "JcUKuRvrasrP",
    "outputId": "d301fd3d-61fa-4c77-ea41-bc4cf27e91db"
   },
   "outputs": [
    {
     "name": "stdout",
     "output_type": "stream",
     "text": [
      "0\n",
      "100000\n",
      "200000\n",
      "300000\n"
     ]
    }
   ],
   "source": [
    "#tokenize the words\n",
    "tokens = (words_samp['value'].apply(word_tokenize).to_list())\n",
    "\n",
    "# classify the type of word\n",
    "tags = []\n",
    "for i in range(len(tokens)):\n",
    "    x,y = zip(*(pos_tag(tokens[i])))\n",
    "    tags.append(y[0])\n",
    "    if i%100000 == 0:\n",
    "        print(i)\n",
    "#join the classification of each word back to the main \"periods\" dataframe\n",
    "words_samp['tags'] = tags"
   ]
  },
  {
   "cell_type": "code",
   "execution_count": null,
   "metadata": {
    "id": "ewYLjEOPasrP"
   },
   "outputs": [],
   "source": [
    "x = words_samp.groupby(['Score','tags'])['variable'].count().reset_index().copy()\n",
    "x_tot = words_samp.Score.value_counts().reset_index().copy()\n",
    "x_tot.rename(columns = {'Score':'total_count',\n",
    "                       'index':'Score'}, inplace = True)\n",
    "\n",
    "x = pd.merge(x,x_tot, on = 'Score', how = 'inner')\n",
    "x['perc'] = x['variable'] / x['total_count']"
   ]
  },
  {
   "cell_type": "code",
   "execution_count": null,
   "metadata": {
    "id": "AzLzF5W8asrQ"
   },
   "outputs": [],
   "source": [
    "pd.pivot_table(x, values = 'perc',index = 'Score', columns = 'tags', aggfunc = 'first').to_excel('POS_tags_by_score.xlsx')"
   ]
  },
  {
   "cell_type": "code",
   "execution_count": null,
   "metadata": {
    "id": "lsVs3l41asrQ"
   },
   "outputs": [],
   "source": [
    "pd.pivot_table(words_samp, values = 'variable',index = 'Score', columns = 'tags', aggfunc = 'count').to_excel('POS_tags_by_score)count.xlsx')"
   ]
  },
  {
   "cell_type": "markdown",
   "metadata": {
    "id": "IRS714vmasrQ"
   },
   "source": [
    "### Top Verbs per Score"
   ]
  },
  {
   "cell_type": "code",
   "execution_count": null,
   "metadata": {
    "id": "apr8CuRhasrR"
   },
   "outputs": [],
   "source": [
    "list_verbs = ['VB','VBG','VBD','VBN','VBP','VBZ']\n",
    "\n",
    "common_verbs = ['is','ask','be','can',\n",
    "                'come','could','do',\n",
    "                'have', 'were','will','would', 'are','was','has','had','am']\n",
    "\n",
    "verbs = words_samp.loc[words_samp['tags'].isin(list_verbs)].copy()\n",
    "verbs = verbs.loc[~(verbs['value'].isin(common_verbs))].copy()\n",
    "\n",
    "verbs = verbs.groupby(['Score','value'])['tags'].count().reset_index()\n",
    "verbs.sort_values(by = ['Score','tags'], ascending = [True,False], inplace = True)\n",
    "\n",
    "top_verbs = pd.DataFrame()\n",
    "for i in range(5):\n",
    "    holder = verbs.loc[verbs['Score'] == (i+1)].head(15)\n",
    "    top_verbs = pd.concat([top_verbs,holder], axis = 0)\n",
    "    \n",
    "top_verbs.to_excel('Top_5_Verbs_Per_Score.xlsx')"
   ]
  },
  {
   "cell_type": "markdown",
   "metadata": {
    "id": "uAidLyYWasrR"
   },
   "source": [
    "### Top Adjectives per Score"
   ]
  },
  {
   "cell_type": "code",
   "execution_count": null,
   "metadata": {
    "id": "ljy1d_60asrR"
   },
   "outputs": [],
   "source": [
    "list_adj = ['JJ','JJR','JJS']\n",
    "\n",
    "adj = words_samp.loc[words_samp['tags'].isin(list_adj)].copy()\n",
    "\n",
    "\n",
    "adj = adj.groupby(['Score','value'])['tags'].count().reset_index()\n",
    "adj.sort_values(by = ['Score','tags'], ascending = [True,False], inplace = True)\n",
    "\n",
    "top_adj = pd.DataFrame()\n",
    "for i in range(5):\n",
    "    holder = adj.loc[adj['Score'] == (i+1)].head(5)\n",
    "    top_adj = pd.concat([top_adj,holder], axis = 0)\n",
    "    \n",
    "top_adj.to_excel('Top_5_Adj_Per_Score.xlsx')"
   ]
  },
  {
   "cell_type": "code",
   "execution_count": null,
   "metadata": {
    "id": "QP4eWLWUasrR"
   },
   "outputs": [],
   "source": []
  },
  {
   "cell_type": "code",
   "execution_count": null,
   "metadata": {
    "id": "hm3pxFAqasrR"
   },
   "outputs": [],
   "source": []
  },
  {
   "cell_type": "code",
   "execution_count": null,
   "metadata": {
    "id": "zNZzSpD4asrR"
   },
   "outputs": [],
   "source": []
  },
  {
   "cell_type": "code",
   "execution_count": null,
   "metadata": {
    "id": "X4h11vYQasrR"
   },
   "outputs": [],
   "source": []
  },
  {
   "cell_type": "code",
   "execution_count": null,
   "metadata": {
    "id": "PZHI1-jrasrS"
   },
   "outputs": [],
   "source": []
  },
  {
   "cell_type": "code",
   "execution_count": null,
   "metadata": {
    "id": "T0WdkGdZasrS"
   },
   "outputs": [],
   "source": []
  },
  {
   "cell_type": "code",
   "execution_count": null,
   "metadata": {
    "id": "nSvoLpCiasrS"
   },
   "outputs": [],
   "source": []
  },
  {
   "cell_type": "code",
   "execution_count": null,
   "metadata": {
    "id": "ZYtZW5nfasrS"
   },
   "outputs": [],
   "source": []
  },
  {
   "cell_type": "code",
   "execution_count": null,
   "metadata": {
    "id": "Pvo9pkowasrS"
   },
   "outputs": [],
   "source": []
  }
 ],
 "metadata": {
  "colab": {
   "provenance": []
  },
  "kernelspec": {
   "display_name": "Python 3",
   "language": "python",
   "name": "python3"
  },
  "language_info": {
   "codemirror_mode": {
    "name": "ipython",
    "version": 3
   },
   "file_extension": ".py",
   "mimetype": "text/x-python",
   "name": "python",
   "nbconvert_exporter": "python",
   "pygments_lexer": "ipython3",
   "version": "3.8.3"
  }
 },
 "nbformat": 4,
 "nbformat_minor": 4
}
